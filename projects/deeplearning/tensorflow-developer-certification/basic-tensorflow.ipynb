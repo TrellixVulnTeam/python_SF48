{
 "cells": [
  {
   "cell_type": "markdown",
   "metadata": {},
   "source": [
    "<h4>Introduction Tensors</h4>"
   ]
  },
  {
   "cell_type": "code",
   "execution_count": 1,
   "metadata": {},
   "outputs": [
    {
     "name": "stderr",
     "output_type": "stream",
     "text": [
      "2022-04-20 10:09:04.270784: W tensorflow/stream_executor/platform/default/dso_loader.cc:64] Could not load dynamic library 'libcudart.so.11.0'; dlerror: libcudart.so.11.0: cannot open shared object file: No such file or directory\n",
      "2022-04-20 10:09:04.270848: I tensorflow/stream_executor/cuda/cudart_stub.cc:29] Ignore above cudart dlerror if you do not have a GPU set up on your machine.\n"
     ]
    },
    {
     "name": "stdout",
     "output_type": "stream",
     "text": [
      "2.8.0\n",
      "tf.Tensor(7, shape=(), dtype=int32)\n",
      "0\n",
      "()\n",
      "<dtype: 'int32'>\n",
      "<class 'tensorflow.python.framework.ops.EagerTensor'>\n",
      "1 \n",
      "\n",
      "VECTOR: tf.Tensor([10 10], shape=(2,), dtype=int64)\n",
      "1\n",
      "(2,)\n",
      "<dtype: 'int64'>\n",
      "<class 'tensorflow.python.framework.ops.EagerTensor'>\n",
      "2 \n",
      "\n",
      "MATRIX: tf.Tensor(\n",
      "[[10. 10.]\n",
      " [20. 20.]\n",
      " [30. 30.]], shape=(3, 2), dtype=float64)\n",
      "2\n",
      "(3, 2)\n",
      "<dtype: 'float64'>\n",
      "<class 'tensorflow.python.framework.ops.EagerTensor'>\n",
      "6 \n",
      "\n",
      "TENSOR: tf.Tensor(\n",
      "[[[10. 10.]\n",
      "  [20. 20.]\n",
      "  [30. 30.]]\n",
      "\n",
      " [[40. 40.]\n",
      "  [50. 50.]\n",
      "  [60. 60.]]\n",
      "\n",
      " [[70. 40.]\n",
      "  [80. 50.]\n",
      "  [90. 60.]]], shape=(3, 3, 2), dtype=float16)\n",
      "3\n",
      "(3, 3, 2)\n",
      "<dtype: 'float16'>\n",
      "<class 'tensorflow.python.framework.ops.EagerTensor'>\n",
      "18 \n",
      "\n",
      "int16\n",
      "[   1   10  100 1000]\n",
      "1\n",
      "tf.Tensor(4, shape=(), dtype=int32)\n",
      "tf.Tensor([   1   10  100 1000], shape=(4,), dtype=int16)\n",
      "1\n",
      "tf.Tensor(4, shape=(), dtype=int32)\n",
      "tf.Tensor([   1.   10.  100. 1000.], shape=(4,), dtype=float32)\n",
      "tf.Tensor(\n",
      "[[[0.1445  0.4229  0.2559  ... 0.2842  0.834   0.55   ]\n",
      "  [0.166   0.6523  0.1309  ... 0.7725  0.3613  0.8545 ]\n",
      "  [0.8994  0.67    0.04883 ... 0.8555  0.3594  0.3574 ]\n",
      "  ...\n",
      "  [0.6406  0.9727  0.02637 ... 0.5527  0.5537  0.714  ]\n",
      "  [0.4404  0.04297 0.2305  ... 0.3281  0.4502  0.456  ]\n",
      "  [0.6553  0.8877  0.2793  ... 0.1436  0.951   0.573  ]]\n",
      "\n",
      " [[0.829   0.5127  0.755   ... 0.0547  0.8086  0.5615 ]\n",
      "  [0.3936  0.9883  0.01563 ... 0.581   0.2969  0.3154 ]\n",
      "  [0.9287  0.8965  0.714   ... 0.1592  0.338   0.924  ]\n",
      "  ...\n",
      "  [0.1641  0.454   0.949   ... 0.05176 0.4453  0.249  ]\n",
      "  [0.00879 0.3096  0.3584  ... 0.1484  0.6816  0.956  ]\n",
      "  [0.1943  0.3887  0.2148  ... 0.2764  0.663   0.916  ]]\n",
      "\n",
      " [[0.1465  0.2842  0.04297 ... 0.1074  0.1318  0.5264 ]\n",
      "  [0.5635  0.2812  0.1318  ... 0.2646  0.96    0.4707 ]\n",
      "  [0.1787  0.918   0.208   ... 0.421   0.1748  0.6387 ]\n",
      "  ...\n",
      "  [0.336   0.07227 0.2451  ... 0.01367 0.9014  0.884  ]\n",
      "  [0.4473  0.923   0.748   ... 0.1875  0.3486  0.786  ]\n",
      "  [0.956   0.9355  0.2461  ... 0.169   0.413   0.1445 ]]\n",
      "\n",
      " ...\n",
      "\n",
      " [[0.08496 0.966   0.254   ... 0.3555  0.248   0.5244 ]\n",
      "  [0.5166  0.1777  0.7666  ... 0.534   0.9707  0.1904 ]\n",
      "  [0.634   0.2666  0.758   ... 0.3105  0.992   0.994  ]\n",
      "  ...\n",
      "  [0.9033  0.9443  0.842   ... 0.2588  0.9346  0.3838 ]\n",
      "  [0.7783  0.8506  0.4688  ... 0.8203  0.255   0.5195 ]\n",
      "  [0.7705  0.704   0.5244  ... 0.1787  0.6143  0.293  ]]\n",
      "\n",
      " [[0.8057  0.76    0.6504  ... 0.8184  0.4062  0.02344]\n",
      "  [0.2451  0.6455  0.08496 ... 0.4912  0.993   0.5605 ]\n",
      "  [0.2725  0.02832 0.792   ... 0.6787  0.03223 0.883  ]\n",
      "  ...\n",
      "  [0.5703  0.2715  0.248   ... 0.871   0.3516  0.374  ]\n",
      "  [0.5264  0.834   0.635   ... 0.546   0.84    0.1406 ]\n",
      "  [0.619   0.6875  0.879   ... 0.79    0.1846  0.455  ]]\n",
      "\n",
      " [[0.9805  0.9746  0.04102 ... 0.3506  0.5576  0.7637 ]\n",
      "  [0.5127  0.8564  0.8135  ... 0.0752  0.5195  0.02539]\n",
      "  [0.1934  0.6104  0.5156  ... 0.1455  0.9014  0.413  ]\n",
      "  ...\n",
      "  [0.535   0.1963  0.955   ... 0.831   0.62    0.00879]\n",
      "  [0.841   0.537   0.506   ... 0.1846  0.509   0.1641 ]\n",
      "  [0.3594  0.8193  0.662   ... 0.416   0.6553  0.884  ]]], shape=(50, 50, 50), dtype=float16)\n",
      "3\n"
     ]
    },
    {
     "name": "stderr",
     "output_type": "stream",
     "text": [
      "2022-04-20 10:09:07.243983: W tensorflow/stream_executor/platform/default/dso_loader.cc:64] Could not load dynamic library 'libcuda.so.1'; dlerror: libcuda.so.1: cannot open shared object file: No such file or directory\n",
      "2022-04-20 10:09:07.244022: W tensorflow/stream_executor/cuda/cuda_driver.cc:269] failed call to cuInit: UNKNOWN ERROR (303)\n",
      "2022-04-20 10:09:07.244044: I tensorflow/stream_executor/cuda/cuda_diagnostics.cc:156] kernel driver does not appear to be running on this host (felipe-Inspiron-3501): /proc/driver/nvidia/version does not exist\n",
      "2022-04-20 10:09:07.245189: I tensorflow/core/platform/cpu_feature_guard.cc:151] This TensorFlow binary is optimized with oneAPI Deep Neural Network Library (oneDNN) to use the following CPU instructions in performance-critical operations:  AVX2 AVX512F FMA\n",
      "To enable them in other operations, rebuild TensorFlow with the appropriate compiler flags.\n"
     ]
    }
   ],
   "source": [
    "import tensorflow as tf\n",
    "import tensorflow_probability as tfp\n",
    "import numpy as np\n",
    "\n",
    "print(tf.__version__)\n",
    "\n",
    "scalar = tf.constant(7, dtype=tf.int32)\n",
    "print(scalar)\n",
    "print(scalar.ndim)\n",
    "print(scalar.shape)\n",
    "print(scalar.dtype)\n",
    "print(type(scalar))\n",
    "print(tf.size(scalar).numpy(), '\\n') # Total of elements in our Tensor\n",
    "\n",
    "vector = tf.constant([10, 10], dtype=tf.int64)\n",
    "print('VECTOR:', vector)\n",
    "print(vector.ndim)\n",
    "print(vector.shape)\n",
    "print(vector.dtype)\n",
    "print(type(vector))\n",
    "print(tf.size(vector).numpy(), '\\n') # Total of elements in our Tensor\n",
    "\n",
    "matrix = tf.constant([[10.0, 10.0], [20, 20], [30, 30]], dtype=tf.float64)\n",
    "print('MATRIX:', matrix)\n",
    "print(matrix.ndim)\n",
    "print(matrix.shape)\n",
    "print(matrix.dtype)\n",
    "print(type(matrix))\n",
    "print(tf.size(matrix).numpy(), '\\n') # Total of elements in our Tensor\n",
    "\n",
    "tensor = tf.constant([[[10.0, 10.0], [20, 20], [30, 30]], [[40.0, 40.0], [50, 50], [60, 60]], [[70.0, 40.0], [80.0, 50], [90.0, 60]]], dtype=tf.float16)\n",
    "print('TENSOR:',tensor)\n",
    "print(tensor.ndim)\n",
    "print(tensor.shape)\n",
    "print(tensor.dtype)\n",
    "print(type(tensor))\n",
    "print(tf.size(tensor).numpy(), '\\n') # Total of elements in our Tensor\n",
    "\n",
    "numpy_array = np.array([1, 10, 100, 1000], dtype=np.int16)\n",
    "print(numpy_array.dtype)\n",
    "print(numpy_array)\n",
    "print(numpy_array.ndim)\n",
    "print(tf.size(numpy_array))\n",
    "tensor_array = tf.constant(numpy_array)\n",
    "print(tensor_array)\n",
    "print(tensor_array.ndim)\n",
    "print(tf.size(tensor_array))\n",
    "cast = tf.cast(tensor_array, dtype=tf.float32)\n",
    "print(cast)\n",
    "\n",
    "r = tf.random.uniform(shape=[50, 50, 50], dtype=tf.float16)\n",
    "print(r)\n",
    "print(r.ndim)"
   ]
  },
  {
   "cell_type": "markdown",
   "metadata": {},
   "source": [
    "<h4>Variable</h4>"
   ]
  },
  {
   "cell_type": "code",
   "execution_count": 2,
   "metadata": {},
   "outputs": [
    {
     "name": "stdout",
     "output_type": "stream",
     "text": [
      "<tf.Variable 'Variable:0' shape=(3,) dtype=int16, numpy=array([10,  8, 10], dtype=int16)>\n",
      "<class 'tensorflow.python.ops.resource_variable_ops.ResourceVariable'> \n",
      "\n",
      "<tf.Variable 'Variable:0' shape=(3,) dtype=int16, numpy=array([500,   8,  10], dtype=int16)>\n",
      "<dtype: 'int16'>\n",
      "3\n"
     ]
    }
   ],
   "source": [
    "var = tf.Variable([10, 8, 10], dtype=tf.int16)\n",
    "print(var)\n",
    "print(type(var), '\\n')\n",
    "var[0].assign(500)\n",
    "print(var)\n",
    "print(var.dtype)\n",
    "print(tf.size(var).numpy()) # Total of elements in our Tensor"
   ]
  },
  {
   "cell_type": "markdown",
   "metadata": {},
   "source": [
    "<h4>Random Tensor</h4>"
   ]
  },
  {
   "cell_type": "code",
   "execution_count": 3,
   "metadata": {},
   "outputs": [
    {
     "name": "stdout",
     "output_type": "stream",
     "text": [
      "tf.Tensor(\n",
      "[[-0.7563  -0.06854]\n",
      " [ 0.0759  -1.258  ]\n",
      " [-0.2319  -1.811  ]], shape=(3, 2), dtype=float16)\n",
      "2\n",
      "(3, 2)\n",
      "<dtype: 'float16'>\n",
      "6\n"
     ]
    }
   ],
   "source": [
    "random = tf.random.Generator.from_seed(42).normal(shape=(3, 2), dtype=tf.float16)\n",
    "print(random)\n",
    "print(random.ndim)\n",
    "print(random.shape)\n",
    "print(random.dtype)\n",
    "print(tf.size(random).numpy()) # Total of elements in our Tensor"
   ]
  },
  {
   "cell_type": "markdown",
   "metadata": {},
   "source": [
    "<h4>Shuffling the order of tensors</h4>"
   ]
  },
  {
   "cell_type": "code",
   "execution_count": 4,
   "metadata": {},
   "outputs": [
    {
     "name": "stdout",
     "output_type": "stream",
     "text": [
      "2\n",
      "(30, 50)\n",
      "<dtype: 'float32'>\n",
      "tf.Tensor(1500, shape=(), dtype=int32)\n",
      "tf.Tensor(\n",
      "[[-0.7565803  -0.06854702  0.07595026 ...  0.6617961   0.01380118\n",
      "  -0.24827152]\n",
      " [ 1.2111493  -0.7199124  -0.04082382 ... -0.3741098  -0.28709963\n",
      "   1.5089895 ]\n",
      " [-0.14833727 -1.2846565   0.5484313  ... -0.29996362 -0.7382552\n",
      "   1.2053189 ]\n",
      " ...\n",
      " [ 1.0943383   0.255803    0.8011465  ...  2.0650482  -0.75586045\n",
      "  -1.5107038 ]\n",
      " [-0.50980395  1.1796211   0.4873755  ...  0.29254746  0.509817\n",
      "   1.1662555 ]\n",
      " [ 0.7567598  -0.01560464 -0.9169527  ...  0.1947453   0.5656089\n",
      "   0.18439196]], shape=(30, 50), dtype=float32)\n",
      "tf.Tensor(\n",
      "[[-0.45561165  1.69945     0.32171428 ...  0.3040326   1.3539944\n",
      "  -0.35777435]\n",
      " [ 0.2519273  -0.6945314   0.02182634 ...  0.7617905  -0.41406497\n",
      "  -2.2834349 ]\n",
      " [-0.6038851  -0.08852839 -1.2040683  ... -1.0428714  -0.73970354\n",
      "   0.0177109 ]\n",
      " ...\n",
      " [-0.88051033 -0.32426047 -2.4847078  ...  0.34223038 -0.3702979\n",
      "  -0.99169385]\n",
      " [ 0.455365    0.18552932 -2.0545108  ...  0.17139332 -0.21565591\n",
      "  -0.06827872]\n",
      " [ 0.5571539   1.4689552   1.2605267  ... -0.7502274  -0.37715855\n",
      "  -0.30130875]], shape=(30, 50), dtype=float32)\n",
      "1500\n",
      "tf.Tensor(\n",
      "[[ 2.    3.25]\n",
      " [ 8.    3.23]\n",
      " [20.    3.22]\n",
      " [22.    3.27]], shape=(4, 2), dtype=float32)\n",
      "tf.Tensor(\n",
      "[[ 8.    3.23]\n",
      " [ 2.    3.25]\n",
      " [20.    3.22]\n",
      " [22.    3.27]], shape=(4, 2), dtype=float32)\n",
      "tf.Tensor(\n",
      "[[ 2.    3.25]\n",
      " [22.    3.27]\n",
      " [20.    3.22]\n",
      " [ 8.    3.23]], shape=(4, 2), dtype=float32)\n"
     ]
    }
   ],
   "source": [
    "shuffled = tf.random.Generator.from_seed(42).normal(shape=(30, 50))\n",
    "print(shuffled.ndim)\n",
    "print(shuffled.shape)\n",
    "print(shuffled.dtype)\n",
    "print(tf.size(shuffled))\n",
    "print(shuffled)\n",
    "print(tf.random.shuffle(shuffled, seed=32))\n",
    "print(tf.size(shuffled).numpy()) # Total of elements in our Tensor\n",
    "\n",
    "not_shuffled = tf.constant([[2, 3.25], \n",
    "                            [8, 3.23], \n",
    "                            [20, 3.22],\n",
    "                            [22, 3.27]])\n",
    "print(not_shuffled)\n",
    "print(tf.random.shuffle(not_shuffled))\n",
    "\n",
    "tf.random.set_seed(33) # Global level random seed\n",
    "print(tf.random.shuffle(not_shuffled))"
   ]
  },
  {
   "cell_type": "markdown",
   "metadata": {},
   "source": [
    "<h4>Indexing</h4>"
   ]
  },
  {
   "cell_type": "code",
   "execution_count": 5,
   "metadata": {},
   "outputs": [
    {
     "name": "stdout",
     "output_type": "stream",
     "text": [
      "tf.Tensor(\n",
      "[[-0.7565803  -0.06854702  0.07595026 -1.2573844  -0.23193763]\n",
      " [-1.8107855   0.09988727 -0.50998646 -0.7535805  -0.57166284]\n",
      " [ 0.1480774  -0.23362993 -0.3522796   0.40621263 -1.0523509 ]], shape=(3, 5), dtype=float32)\n",
      "tf.Tensor(\n",
      "[[[-0.7565803 ]\n",
      "  [-0.06854702]\n",
      "  [ 0.07595026]\n",
      "  [-1.2573844 ]\n",
      "  [-0.23193763]]\n",
      "\n",
      " [[-1.8107855 ]\n",
      "  [ 0.09988727]\n",
      "  [-0.50998646]\n",
      "  [-0.7535805 ]\n",
      "  [-0.57166284]]\n",
      "\n",
      " [[ 0.1480774 ]\n",
      "  [-0.23362993]\n",
      "  [-0.3522796 ]\n",
      "  [ 0.40621263]\n",
      "  [-1.0523509 ]]], shape=(3, 5, 1), dtype=float32)\n",
      "tf.Tensor(\n",
      "[[[-0.7565803  -0.06854702  0.07595026 -1.2573844  -0.23193763]\n",
      "  [-1.8107855   0.09988727 -0.50998646 -0.7535805  -0.57166284]\n",
      "  [ 0.1480774  -0.23362993 -0.3522796   0.40621263 -1.0523509 ]]], shape=(1, 3, 5), dtype=float32)\n"
     ]
    }
   ],
   "source": [
    "matrix = tf.random.Generator.from_seed(42).normal(shape=(3, 5))\n",
    "print(matrix)\n",
    "print(tf.expand_dims(matrix, axis=-1))\n",
    "print(tf.expand_dims(matrix, axis=0))"
   ]
  },
  {
   "cell_type": "markdown",
   "metadata": {},
   "source": [
    "<h4>Absolute Values</h4>"
   ]
  },
  {
   "cell_type": "code",
   "execution_count": 6,
   "metadata": {},
   "outputs": [
    {
     "data": {
      "text/plain": [
       "<tf.Tensor: shape=(5,), dtype=int32, numpy=array([ 7, 10, 19,  5,  2], dtype=int32)>"
      ]
     },
     "execution_count": 6,
     "metadata": {},
     "output_type": "execute_result"
    }
   ],
   "source": [
    "a = tf.constant([-7, -10, - 19, 5, 2])\n",
    "tf.abs(a)"
   ]
  },
  {
   "cell_type": "markdown",
   "metadata": {},
   "source": [
    "<h4>Min, Max, Mean</h4>"
   ]
  },
  {
   "cell_type": "code",
   "execution_count": 11,
   "metadata": {},
   "outputs": [
    {
     "name": "stdout",
     "output_type": "stream",
     "text": [
      "tf.Tensor(\n",
      "[82. 31. 87. 41. 93. 47. 72. 73. 78. 72. 61. 24. 93. 65. 42. 25. 92. 55.\n",
      " 39. 95. 73. 85. 60. 64. 93. 32. 97. 85. 61. 38. 58. 62. 68. 51. 33. 59.\n",
      " 95. 74. 14. 27. 78. 58. 99. 92. 61.  3. 11. 30.  5.  5.], shape=(50,), dtype=float16)\n",
      "tf.Tensor(\n",
      "[0.1035  0.4912  0.07324 0.3428  0.7656  0.9004  0.207   0.8564  0.4678\n",
      " 0.5986  0.0371  0.7773  0.838   0.4463  0.4717  0.717   0.5293  0.8896\n",
      " 0.84    0.9873  0.997   0.5166  0.6396  0.1592  0.1621  0.1416  0.3018\n",
      " 0.7637  0.659   0.125   0.758   0.1973  0.791   0.6426  0.4766  0.4639\n",
      " 0.496   0.254   0.6797  0.6064  0.674   0.9766  0.6436  0.6436  0.871\n",
      " 0.6357  0.8584  0.1797  0.0166  0.5303 ], shape=(50,), dtype=float16)\n",
      "tf.Tensor(3.0, shape=(), dtype=float16)\n",
      "tf.Tensor(99.0, shape=(), dtype=float16)\n",
      "tf.Tensor(58.75, shape=(), dtype=float16)\n",
      "tf.Tensor(2938.0, shape=(), dtype=float16)\n",
      "Square Root: [9.055 5.566 9.33  6.402 9.64  6.855 8.484 8.55  8.83  8.484 7.81  4.9\n",
      " 9.64  8.06  6.48  5.    9.59  7.418 6.246 9.75  8.55  9.22  7.746 8.\n",
      " 9.64  5.656 9.85  9.22  7.81  6.164 7.617 7.875 8.25  7.14  5.746 7.68\n",
      " 9.75  8.6   3.742 5.195 8.83  7.617 9.95  9.59  7.81  1.732 3.316 5.477\n",
      " 2.236 2.236] \n",
      "\n",
      "Positional Max: 42 - Value: 99.0 \n",
      "\n",
      "tf.Tensor(27.28, shape=(), dtype=float16)\n",
      "tf.Tensor(744.5, shape=(), dtype=float16)\n",
      "tf.Tensor(61.0, shape=(), dtype=float16)\n"
     ]
    }
   ],
   "source": [
    "a = tf.constant(np.random.randint(0, 100, size=50), dtype=tf.float16)\n",
    "b = tf.random.uniform(shape=[50], dtype=tf.float16)\n",
    "print(a)\n",
    "print(b)\n",
    "print(tf.reduce_min(a))\n",
    "print(tf.reduce_max(a))\n",
    "print(tf.reduce_mean(a))\n",
    "print(tf.reduce_sum(a))\n",
    "print(f'Square Root: {tf.math.sqrt(a)} \\n')\n",
    "print(f'Positional Max: {tf.argmax(a)} - Value: {a[tf.argmax(a)]} \\n')\n",
    "print(tf.math.reduce_std(a))\n",
    "print(tfp.stats.variance(a))    \n",
    "print(tfp.stats.percentile(a, q=50))"
   ]
  }
 ],
 "metadata": {
  "interpreter": {
   "hash": "725d5c4629a663bfd585bebfe04fe3e25572940a8a80e042ea861df60ee30dd2"
  },
  "kernelspec": {
   "display_name": "Python 3.8.10 64-bit ('venv': venv)",
   "language": "python",
   "name": "python3"
  },
  "language_info": {
   "codemirror_mode": {
    "name": "ipython",
    "version": 3
   },
   "file_extension": ".py",
   "mimetype": "text/x-python",
   "name": "python",
   "nbconvert_exporter": "python",
   "pygments_lexer": "ipython3",
   "version": "3.8.10"
  },
  "orig_nbformat": 4
 },
 "nbformat": 4,
 "nbformat_minor": 2
}
