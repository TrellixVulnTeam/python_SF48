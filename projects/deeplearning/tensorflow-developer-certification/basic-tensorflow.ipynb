{
 "cells": [
  {
   "cell_type": "markdown",
   "metadata": {},
   "source": [
    "<h4>Introduction Tensors</h4>"
   ]
  },
  {
   "cell_type": "code",
   "execution_count": 12,
   "metadata": {},
   "outputs": [
    {
     "name": "stdout",
     "output_type": "stream",
     "text": [
      "2.8.0\n",
      "[PhysicalDevice(name='/physical_device:CPU:0', device_type='CPU')]\n",
      "tf.Tensor(7, shape=(), dtype=int32)\n",
      "0\n",
      "()\n",
      "<dtype: 'int32'>\n",
      "<class 'tensorflow.python.framework.ops.EagerTensor'>\n",
      "1 \n",
      "\n",
      "VECTOR: tf.Tensor([10 10], shape=(2,), dtype=int64)\n",
      "1\n",
      "(2,)\n",
      "<dtype: 'int64'>\n",
      "<class 'tensorflow.python.framework.ops.EagerTensor'>\n",
      "2 \n",
      "\n",
      "MATRIX: tf.Tensor(\n",
      "[[10. 10.]\n",
      " [20. 20.]\n",
      " [30. 30.]], shape=(3, 2), dtype=float64)\n",
      "2\n",
      "(3, 2)\n",
      "<dtype: 'float64'>\n",
      "<class 'tensorflow.python.framework.ops.EagerTensor'>\n",
      "6 \n",
      "\n",
      "TENSOR: tf.Tensor(\n",
      "[[[10. 10.]\n",
      "  [20. 20.]\n",
      "  [30. 30.]]\n",
      "\n",
      " [[40. 40.]\n",
      "  [50. 50.]\n",
      "  [60. 60.]]\n",
      "\n",
      " [[70. 40.]\n",
      "  [80. 50.]\n",
      "  [90. 60.]]], shape=(3, 3, 2), dtype=float16)\n",
      "3\n",
      "(3, 3, 2)\n",
      "<dtype: 'float16'>\n",
      "<class 'tensorflow.python.framework.ops.EagerTensor'>\n",
      "18 \n",
      "\n",
      "int16\n",
      "[   1   10  100 1000]\n",
      "1\n",
      "tf.Tensor(4, shape=(), dtype=int32)\n",
      "tf.Tensor([   1   10  100 1000], shape=(4,), dtype=int16)\n",
      "1\n",
      "tf.Tensor(4, shape=(), dtype=int32)\n",
      "tf.Tensor([   1.   10.  100. 1000.], shape=(4,), dtype=float32)\n",
      "tf.Tensor(\n",
      "[[[0.4707   0.3857   0.7812   ... 0.455    0.1221   0.0742  ]\n",
      "  [0.924    0.2354   0.7812   ... 0.2666   0.10156  0.6807  ]\n",
      "  [0.5166   0.1494   0.9824   ... 0.335    0.965    0.8193  ]\n",
      "  ...\n",
      "  [0.21     0.842    0.5166   ... 0.918    0.1875   0.3223  ]\n",
      "  [0.4404   0.9062   0.711    ... 0.2393   0.372    0.584   ]\n",
      "  [0.2402   0.919    0.9873   ... 0.3662   0.3916   0.4521  ]]\n",
      "\n",
      " [[0.9463   0.574    0.01172  ... 0.09766  0.755    0.457   ]\n",
      "  [0.2676   0.9404   0.9326   ... 0.3623   0.6396   0.0928  ]\n",
      "  [0.419    0.3389   0.2051   ... 0.421    0.4922   0.83    ]\n",
      "  ...\n",
      "  [0.3096   0.1973   0.2705   ... 0.4404   0.2764   0.591   ]\n",
      "  [0.5967   0.337    0.874    ... 0.0703   0.9297   0.1035  ]\n",
      "  [0.1396   0.2002   0.966    ... 0.871    0.1494   0.4639  ]]\n",
      "\n",
      " [[0.836    0.659    0.02539  ... 0.4414   0.1641   0.1572  ]\n",
      "  [0.3838   0.5723   0.1562   ... 0.6436   0.7686   0.03613 ]\n",
      "  [0.084    0.8486   0.999    ... 0.0713   0.8      0.8867  ]\n",
      "  ...\n",
      "  [0.632    0.04492  0.4834   ... 0.9395   0.542    0.2129  ]\n",
      "  [0.664    0.3115   0.957    ... 0.1494   0.4814   0.509   ]\n",
      "  [0.782    0.1729   0.914    ... 0.5234   0.9746   0.9785  ]]\n",
      "\n",
      " ...\n",
      "\n",
      " [[0.2188   0.05566  0.9385   ... 0.4307   0.04785  0.3145  ]\n",
      "  [0.167    0.831    0.1846   ... 0.7715   0.709    0.6934  ]\n",
      "  [0.744    0.1973   0.01172  ... 0.574    0.9043   0.6494  ]\n",
      "  ...\n",
      "  [0.1006   0.42     0.9033   ... 0.9883   0.662    0.701   ]\n",
      "  [0.9277   0.4004   0.8076   ... 0.0586   0.955    0.5674  ]\n",
      "  [0.625    0.836    0.546    ... 0.02832  0.754    0.33    ]]\n",
      "\n",
      " [[0.03223  0.3926   0.416    ... 0.6143   0.0654   0.59    ]\n",
      "  [0.8916   0.0957   0.3125   ... 0.1221   0.4648   0.209   ]\n",
      "  [0.3076   0.9307   0.6006   ... 0.7627   0.503    0.375   ]\n",
      "  ...\n",
      "  [0.456    0.8223   0.534    ... 0.622    0.913    0.8604  ]\n",
      "  [0.6416   0.8145   0.2627   ... 0.875    0.7646   0.0293  ]\n",
      "  [0.949    0.8496   0.2822   ... 0.2129   0.506    0.3203  ]]\n",
      "\n",
      " [[0.1641   0.8896   0.911    ... 0.911    0.461    0.1475  ]\n",
      "  [0.8203   0.5107   0.042    ... 0.02832  0.992    0.012695]\n",
      "  [0.4658   0.952    0.1719   ... 0.376    0.3838   0.378   ]\n",
      "  ...\n",
      "  [0.1504   0.4785   0.7656   ... 0.713    0.835    0.8174  ]\n",
      "  [0.332    0.11914  0.458    ... 0.2168   0.58     0.1895  ]\n",
      "  [0.4834   0.9736   0.2236   ... 0.674    0.1934   0.7764  ]]], shape=(50, 50, 50), dtype=float16)\n",
      "3\n"
     ]
    }
   ],
   "source": [
    "import tensorflow as tf\n",
    "import tensorflow_probability as tfp\n",
    "import numpy as np\n",
    "\n",
    "print(tf.__version__)\n",
    "print(tf.config.list_physical_devices())\n",
    "\n",
    "scalar = tf.constant(7, dtype=tf.int32)\n",
    "print(scalar)\n",
    "print(scalar.ndim)\n",
    "print(scalar.shape)\n",
    "print(scalar.dtype)\n",
    "print(type(scalar))\n",
    "print(tf.size(scalar).numpy(), '\\n') # Total of elements in our Tensor\n",
    "\n",
    "vector = tf.constant([10, 10], dtype=tf.int64)\n",
    "print('VECTOR:', vector)\n",
    "print(vector.ndim)\n",
    "print(vector.shape)\n",
    "print(vector.dtype)\n",
    "print(type(vector))\n",
    "print(tf.size(vector).numpy(), '\\n') # Total of elements in our Tensor\n",
    "\n",
    "matrix = tf.constant([[10.0, 10.0], [20, 20], [30, 30]], dtype=tf.float64)\n",
    "print('MATRIX:', matrix)\n",
    "print(matrix.ndim)\n",
    "print(matrix.shape)\n",
    "print(matrix.dtype)\n",
    "print(type(matrix))\n",
    "print(tf.size(matrix).numpy(), '\\n') # Total of elements in our Tensor\n",
    "\n",
    "tensor = tf.constant([[[10.0, 10.0], [20, 20], [30, 30]], [[40.0, 40.0], [50, 50], [60, 60]], [[70.0, 40.0], [80.0, 50], [90.0, 60]]], dtype=tf.float16)\n",
    "print('TENSOR:',tensor)\n",
    "print(tensor.ndim)\n",
    "print(tensor.shape)\n",
    "print(tensor.dtype)\n",
    "print(type(tensor))\n",
    "print(tf.size(tensor).numpy(), '\\n') # Total of elements in our Tensor\n",
    "\n",
    "numpy_array = np.array([1, 10, 100, 1000], dtype=np.int16)\n",
    "print(numpy_array.dtype)\n",
    "print(numpy_array)\n",
    "print(numpy_array.ndim)\n",
    "print(tf.size(numpy_array))\n",
    "tensor_array = tf.constant(numpy_array)\n",
    "print(tensor_array)\n",
    "print(tensor_array.ndim)\n",
    "print(tf.size(tensor_array))\n",
    "cast = tf.cast(tensor_array, dtype=tf.float32)\n",
    "print(cast)\n",
    "\n",
    "r = tf.random.uniform(shape=[50, 50, 50], dtype=tf.float16)\n",
    "print(r)\n",
    "print(r.ndim)"
   ]
  },
  {
   "cell_type": "markdown",
   "metadata": {},
   "source": [
    "<h4>Variable</h4>"
   ]
  },
  {
   "cell_type": "code",
   "execution_count": 2,
   "metadata": {},
   "outputs": [
    {
     "name": "stdout",
     "output_type": "stream",
     "text": [
      "<tf.Variable 'Variable:0' shape=(3,) dtype=int16, numpy=array([10,  8, 10], dtype=int16)>\n",
      "<class 'tensorflow.python.ops.resource_variable_ops.ResourceVariable'> \n",
      "\n",
      "<tf.Variable 'Variable:0' shape=(3,) dtype=int16, numpy=array([500,   8,  10], dtype=int16)>\n",
      "<dtype: 'int16'>\n",
      "3\n"
     ]
    }
   ],
   "source": [
    "var = tf.Variable([10, 8, 10], dtype=tf.int16)\n",
    "print(var)\n",
    "print(type(var), '\\n')\n",
    "var[0].assign(500)\n",
    "print(var)\n",
    "print(var.dtype)\n",
    "print(tf.size(var).numpy()) # Total of elements in our Tensor"
   ]
  },
  {
   "cell_type": "markdown",
   "metadata": {},
   "source": [
    "<h4>Random Tensor</h4>"
   ]
  },
  {
   "cell_type": "code",
   "execution_count": 3,
   "metadata": {},
   "outputs": [
    {
     "name": "stdout",
     "output_type": "stream",
     "text": [
      "tf.Tensor(\n",
      "[[-0.7563  -0.06854]\n",
      " [ 0.0759  -1.258  ]\n",
      " [-0.2319  -1.811  ]], shape=(3, 2), dtype=float16)\n",
      "2\n",
      "(3, 2)\n",
      "<dtype: 'float16'>\n",
      "6\n"
     ]
    }
   ],
   "source": [
    "random = tf.random.Generator.from_seed(42).normal(shape=(3, 2), dtype=tf.float16)\n",
    "print(random)\n",
    "print(random.ndim)\n",
    "print(random.shape)\n",
    "print(random.dtype)\n",
    "print(tf.size(random).numpy()) # Total of elements in our Tensor"
   ]
  },
  {
   "cell_type": "markdown",
   "metadata": {},
   "source": [
    "<h4>Shuffling the order of tensors</h4>"
   ]
  },
  {
   "cell_type": "code",
   "execution_count": 4,
   "metadata": {},
   "outputs": [
    {
     "name": "stdout",
     "output_type": "stream",
     "text": [
      "2\n",
      "(30, 50)\n",
      "<dtype: 'float32'>\n",
      "tf.Tensor(1500, shape=(), dtype=int32)\n",
      "tf.Tensor(\n",
      "[[-0.7565803  -0.06854702  0.07595026 ...  0.6617961   0.01380118\n",
      "  -0.24827152]\n",
      " [ 1.2111493  -0.7199124  -0.04082382 ... -0.3741098  -0.28709963\n",
      "   1.5089895 ]\n",
      " [-0.14833727 -1.2846565   0.5484313  ... -0.29996362 -0.7382552\n",
      "   1.2053189 ]\n",
      " ...\n",
      " [ 1.0943383   0.255803    0.8011465  ...  2.0650482  -0.75586045\n",
      "  -1.5107038 ]\n",
      " [-0.50980395  1.1796211   0.4873755  ...  0.29254746  0.509817\n",
      "   1.1662555 ]\n",
      " [ 0.7567598  -0.01560464 -0.9169527  ...  0.1947453   0.5656089\n",
      "   0.18439196]], shape=(30, 50), dtype=float32)\n",
      "tf.Tensor(\n",
      "[[-0.45561165  1.69945     0.32171428 ...  0.3040326   1.3539944\n",
      "  -0.35777435]\n",
      " [ 0.2519273  -0.6945314   0.02182634 ...  0.7617905  -0.41406497\n",
      "  -2.2834349 ]\n",
      " [-0.6038851  -0.08852839 -1.2040683  ... -1.0428714  -0.73970354\n",
      "   0.0177109 ]\n",
      " ...\n",
      " [-0.88051033 -0.32426047 -2.4847078  ...  0.34223038 -0.3702979\n",
      "  -0.99169385]\n",
      " [ 0.455365    0.18552932 -2.0545108  ...  0.17139332 -0.21565591\n",
      "  -0.06827872]\n",
      " [ 0.5571539   1.4689552   1.2605267  ... -0.7502274  -0.37715855\n",
      "  -0.30130875]], shape=(30, 50), dtype=float32)\n",
      "1500\n",
      "tf.Tensor(\n",
      "[[ 2.    3.25]\n",
      " [ 8.    3.23]\n",
      " [20.    3.22]\n",
      " [22.    3.27]], shape=(4, 2), dtype=float32)\n",
      "tf.Tensor(\n",
      "[[ 8.    3.23]\n",
      " [ 2.    3.25]\n",
      " [20.    3.22]\n",
      " [22.    3.27]], shape=(4, 2), dtype=float32)\n",
      "tf.Tensor(\n",
      "[[ 2.    3.25]\n",
      " [22.    3.27]\n",
      " [20.    3.22]\n",
      " [ 8.    3.23]], shape=(4, 2), dtype=float32)\n"
     ]
    }
   ],
   "source": [
    "shuffled = tf.random.Generator.from_seed(42).normal(shape=(30, 50))\n",
    "print(shuffled.ndim)\n",
    "print(shuffled.shape)\n",
    "print(shuffled.dtype)\n",
    "print(tf.size(shuffled))\n",
    "print(shuffled)\n",
    "print(tf.random.shuffle(shuffled, seed=32))\n",
    "print(tf.size(shuffled).numpy()) # Total of elements in our Tensor\n",
    "\n",
    "not_shuffled = tf.constant([[2, 3.25], \n",
    "                            [8, 3.23], \n",
    "                            [20, 3.22],\n",
    "                            [22, 3.27]])\n",
    "print(not_shuffled)\n",
    "print(tf.random.shuffle(not_shuffled))\n",
    "\n",
    "tf.random.set_seed(33) # Global level random seed\n",
    "print(tf.random.shuffle(not_shuffled))"
   ]
  },
  {
   "cell_type": "markdown",
   "metadata": {},
   "source": [
    "<h4>Indexing</h4>"
   ]
  },
  {
   "cell_type": "code",
   "execution_count": 5,
   "metadata": {},
   "outputs": [
    {
     "name": "stdout",
     "output_type": "stream",
     "text": [
      "tf.Tensor(\n",
      "[[-0.7565803  -0.06854702  0.07595026 -1.2573844  -0.23193763]\n",
      " [-1.8107855   0.09988727 -0.50998646 -0.7535805  -0.57166284]\n",
      " [ 0.1480774  -0.23362993 -0.3522796   0.40621263 -1.0523509 ]], shape=(3, 5), dtype=float32)\n",
      "tf.Tensor(\n",
      "[[[-0.7565803 ]\n",
      "  [-0.06854702]\n",
      "  [ 0.07595026]\n",
      "  [-1.2573844 ]\n",
      "  [-0.23193763]]\n",
      "\n",
      " [[-1.8107855 ]\n",
      "  [ 0.09988727]\n",
      "  [-0.50998646]\n",
      "  [-0.7535805 ]\n",
      "  [-0.57166284]]\n",
      "\n",
      " [[ 0.1480774 ]\n",
      "  [-0.23362993]\n",
      "  [-0.3522796 ]\n",
      "  [ 0.40621263]\n",
      "  [-1.0523509 ]]], shape=(3, 5, 1), dtype=float32)\n",
      "tf.Tensor(\n",
      "[[[-0.7565803  -0.06854702  0.07595026 -1.2573844  -0.23193763]\n",
      "  [-1.8107855   0.09988727 -0.50998646 -0.7535805  -0.57166284]\n",
      "  [ 0.1480774  -0.23362993 -0.3522796   0.40621263 -1.0523509 ]]], shape=(1, 3, 5), dtype=float32)\n"
     ]
    }
   ],
   "source": [
    "matrix = tf.random.Generator.from_seed(42).normal(shape=(3, 5))\n",
    "print(matrix)\n",
    "print(tf.expand_dims(matrix, axis=-1))\n",
    "print(tf.expand_dims(matrix, axis=0))"
   ]
  },
  {
   "cell_type": "markdown",
   "metadata": {},
   "source": [
    "<h4>Absolute Values</h4>"
   ]
  },
  {
   "cell_type": "code",
   "execution_count": 6,
   "metadata": {},
   "outputs": [
    {
     "data": {
      "text/plain": [
       "<tf.Tensor: shape=(5,), dtype=int32, numpy=array([ 7, 10, 19,  5,  2], dtype=int32)>"
      ]
     },
     "execution_count": 6,
     "metadata": {},
     "output_type": "execute_result"
    }
   ],
   "source": [
    "a = tf.constant([-7, -10, - 19, 5, 2])\n",
    "tf.abs(a)"
   ]
  },
  {
   "cell_type": "markdown",
   "metadata": {},
   "source": [
    "<h4>Min, Max, Mean</h4>"
   ]
  },
  {
   "cell_type": "code",
   "execution_count": 11,
   "metadata": {},
   "outputs": [
    {
     "name": "stdout",
     "output_type": "stream",
     "text": [
      "tf.Tensor(\n",
      "[82. 31. 87. 41. 93. 47. 72. 73. 78. 72. 61. 24. 93. 65. 42. 25. 92. 55.\n",
      " 39. 95. 73. 85. 60. 64. 93. 32. 97. 85. 61. 38. 58. 62. 68. 51. 33. 59.\n",
      " 95. 74. 14. 27. 78. 58. 99. 92. 61.  3. 11. 30.  5.  5.], shape=(50,), dtype=float16)\n",
      "tf.Tensor(\n",
      "[0.1035  0.4912  0.07324 0.3428  0.7656  0.9004  0.207   0.8564  0.4678\n",
      " 0.5986  0.0371  0.7773  0.838   0.4463  0.4717  0.717   0.5293  0.8896\n",
      " 0.84    0.9873  0.997   0.5166  0.6396  0.1592  0.1621  0.1416  0.3018\n",
      " 0.7637  0.659   0.125   0.758   0.1973  0.791   0.6426  0.4766  0.4639\n",
      " 0.496   0.254   0.6797  0.6064  0.674   0.9766  0.6436  0.6436  0.871\n",
      " 0.6357  0.8584  0.1797  0.0166  0.5303 ], shape=(50,), dtype=float16)\n",
      "tf.Tensor(3.0, shape=(), dtype=float16)\n",
      "tf.Tensor(99.0, shape=(), dtype=float16)\n",
      "tf.Tensor(58.75, shape=(), dtype=float16)\n",
      "tf.Tensor(2938.0, shape=(), dtype=float16)\n",
      "Square Root: [9.055 5.566 9.33  6.402 9.64  6.855 8.484 8.55  8.83  8.484 7.81  4.9\n",
      " 9.64  8.06  6.48  5.    9.59  7.418 6.246 9.75  8.55  9.22  7.746 8.\n",
      " 9.64  5.656 9.85  9.22  7.81  6.164 7.617 7.875 8.25  7.14  5.746 7.68\n",
      " 9.75  8.6   3.742 5.195 8.83  7.617 9.95  9.59  7.81  1.732 3.316 5.477\n",
      " 2.236 2.236] \n",
      "\n",
      "Positional Max: 42 - Value: 99.0 \n",
      "\n",
      "tf.Tensor(27.28, shape=(), dtype=float16)\n",
      "tf.Tensor(744.5, shape=(), dtype=float16)\n",
      "tf.Tensor(61.0, shape=(), dtype=float16)\n"
     ]
    }
   ],
   "source": [
    "a = tf.constant(np.random.randint(0, 100, size=50), dtype=tf.float16)\n",
    "b = tf.random.uniform(shape=[50], dtype=tf.float16)\n",
    "print(a)\n",
    "print(b)\n",
    "print(tf.reduce_min(a))\n",
    "print(tf.reduce_max(a))\n",
    "print(tf.reduce_mean(a))\n",
    "print(tf.reduce_sum(a))\n",
    "print(f'Square Root: {tf.math.sqrt(a)} \\n')\n",
    "print(f'Positional Max: {tf.argmax(a)} - Value: {a[tf.argmax(a)]} \\n')\n",
    "print(tf.math.reduce_std(a))\n",
    "print(tfp.stats.variance(a))    \n",
    "print(tfp.stats.percentile(a, q=50))"
   ]
  }
 ],
 "metadata": {
  "interpreter": {
   "hash": "725d5c4629a663bfd585bebfe04fe3e25572940a8a80e042ea861df60ee30dd2"
  },
  "kernelspec": {
   "display_name": "Python 3.8.10 64-bit ('venv': venv)",
   "language": "python",
   "name": "python3"
  },
  "language_info": {
   "codemirror_mode": {
    "name": "ipython",
    "version": 3
   },
   "file_extension": ".py",
   "mimetype": "text/x-python",
   "name": "python",
   "nbconvert_exporter": "python",
   "pygments_lexer": "ipython3",
   "version": "3.8.10"
  },
  "orig_nbformat": 4
 },
 "nbformat": 4,
 "nbformat_minor": 2
}
