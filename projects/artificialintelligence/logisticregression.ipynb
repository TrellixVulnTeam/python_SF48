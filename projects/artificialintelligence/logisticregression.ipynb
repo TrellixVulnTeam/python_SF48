{
 "cells": [
  {
   "cell_type": "code",
   "execution_count": null,
   "metadata": {},
   "outputs": [],
   "source": [
    "from sklearn.linear_model import LogisticRegression\n",
    "from sklearn.model_selection import train_test_split\n",
    "from sklearn.pipeline import make_pipeline\n",
    "from sklearn.preprocessing import StandardScaler\n",
    "\n",
    "from sklearn.model_selection import train_test_split\n",
    "from sklearn.preprocessing import StandardScaler\n",
    "from sklearn.linear_model import LinearRegression\n",
    "from sklearn.metrics import mean_squared_error, r2_score\n",
    "import pandas as pd\n",
    "import sqlite3\n",
    "import numpy as np\n",
    "import matplotlib.pyplot as plt\n",
    "\n",
    "class Forex():        \n",
    "    def load_data(ticker: str, time_frame: str) -> None: # Load dataset.\n",
    "        params_dic = {\n",
    "         'host': 'localhost',\n",
    "         'database': '../algorithmic-trading/data/forex.db'\n",
    "        }\n",
    "        with sqlite3.connect(f\"{params_dic['database']}\") as connection:\n",
    "            dataset = pd.read_sql_query(\"SELECT * FROM \"+ticker.lower()+\"_\"+time_frame, connection)\n",
    "            return dataset\n",
    "\n",
    "currency_pair = ['AUDCAD']\n",
    "#currency_pair = ['AUDCAD', 'AUDNZD', 'AUDUSD', 'CADCHF', 'EURAUD', 'EURBRL', 'EURCAD', 'EURCHF', 'EURHUF', 'EURGBP', 'EURJPY', 'EURNZD', 'EURUSD', 'GBPCAD', 'GBPCHF', 'GBPJPY', 'GBPUSD', 'GBPNZD', 'USDCAD', 'USDCHF', 'USDJPY', 'USDMXN', 'USDSGD', 'USDTRY', 'NZDCAD', 'NZDUSD', 'NZDJPY']\n",
    "for currency in currency_pair:\n",
    "    #time_frames = ['1d', '1wk', '1mo', '3mo'] # Intervals: “1m”, “2m”, “5m”, “15m”, “30m”, “60m”, “90m”, “1h”, “1d”, “5d”, “1wk”, “1mo”, “3mo”\n",
    "    time_frames = ['1d']\n",
    "    for time_frame in time_frames:\n",
    "        dataset = Forex.load_data(currency, time_frame)\n",
    "        print(dataset)\n",
    "\n",
    "dataset['returns'] = np.log(dataset['close']).shift(1)\n",
    "dataset['lag1'] = dataset['returns'].shift(1)\n",
    "dataset.dropna(inplace=True)\n",
    "\n",
    "# Define X and Y\n",
    "x = np.array(dataset['lag1']).reshape(-1, 1)\n",
    "y = dataset['returns']\n",
    "\n",
    "x_train, x_test, y_train, y_test = train_test_split(x, y, random_state=42)\n",
    "pipe = make_pipeline(StandardScaler(), LogisticRegression())\n",
    "pipe.fit(x_train, y_train)  # apply scaling on training data\n",
    "Pipeline(steps=[('standardscaler', StandardScaler()), ('logisticregression', LogisticRegression())])"
   ]
  }
 ],
 "metadata": {
  "language_info": {
   "name": "python"
  },
  "orig_nbformat": 4
 },
 "nbformat": 4,
 "nbformat_minor": 2
}
