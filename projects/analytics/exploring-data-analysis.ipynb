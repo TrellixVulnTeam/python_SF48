{
 "cells": [
  {
   "cell_type": "markdown",
   "metadata": {},
   "source": [
    "<h4>Libraries</<h4>"
   ]
  },
  {
   "cell_type": "code",
   "execution_count": 51,
   "metadata": {},
   "outputs": [],
   "source": [
    "import numpy as np\n",
    "import pandas as pd\n",
    "import scipy\n",
    "import yfinance as yf\n",
    "import matplotlib.pyplot as plt\n",
    "import seaborn as sns"
   ]
  },
  {
   "cell_type": "markdown",
   "metadata": {},
   "source": [
    "<h4>Import data</h4>"
   ]
  },
  {
   "cell_type": "code",
   "execution_count": 52,
   "metadata": {},
   "outputs": [
    {
     "data": {
      "text/html": [
       "<div>\n",
       "<style scoped>\n",
       "    .dataframe tbody tr th:only-of-type {\n",
       "        vertical-align: middle;\n",
       "    }\n",
       "\n",
       "    .dataframe tbody tr th {\n",
       "        vertical-align: top;\n",
       "    }\n",
       "\n",
       "    .dataframe thead th {\n",
       "        text-align: right;\n",
       "    }\n",
       "</style>\n",
       "<table border=\"1\" class=\"dataframe\">\n",
       "  <thead>\n",
       "    <tr style=\"text-align: right;\">\n",
       "      <th></th>\n",
       "      <th>open</th>\n",
       "      <th>high</th>\n",
       "      <th>low</th>\n",
       "      <th>close</th>\n",
       "      <th>date</th>\n",
       "    </tr>\n",
       "  </thead>\n",
       "  <tbody>\n",
       "    <tr>\n",
       "      <th>0</th>\n",
       "      <td>1.20340</td>\n",
       "      <td>1.20401</td>\n",
       "      <td>1.19440</td>\n",
       "      <td>1.19650</td>\n",
       "      <td>2003-12-01</td>\n",
       "    </tr>\n",
       "    <tr>\n",
       "      <th>1</th>\n",
       "      <td>1.19610</td>\n",
       "      <td>1.21090</td>\n",
       "      <td>1.19460</td>\n",
       "      <td>1.20890</td>\n",
       "      <td>2003-12-02</td>\n",
       "    </tr>\n",
       "    <tr>\n",
       "      <th>2</th>\n",
       "      <td>1.20900</td>\n",
       "      <td>1.21300</td>\n",
       "      <td>1.20770</td>\n",
       "      <td>1.21230</td>\n",
       "      <td>2003-12-03</td>\n",
       "    </tr>\n",
       "    <tr>\n",
       "      <th>3</th>\n",
       "      <td>1.21200</td>\n",
       "      <td>1.21440</td>\n",
       "      <td>1.20440</td>\n",
       "      <td>1.20809</td>\n",
       "      <td>2003-12-04</td>\n",
       "    </tr>\n",
       "    <tr>\n",
       "      <th>4</th>\n",
       "      <td>1.20780</td>\n",
       "      <td>1.21910</td>\n",
       "      <td>1.20659</td>\n",
       "      <td>1.21869</td>\n",
       "      <td>2003-12-05</td>\n",
       "    </tr>\n",
       "    <tr>\n",
       "      <th>...</th>\n",
       "      <td>...</td>\n",
       "      <td>...</td>\n",
       "      <td>...</td>\n",
       "      <td>...</td>\n",
       "      <td>...</td>\n",
       "    </tr>\n",
       "    <tr>\n",
       "      <th>4731</th>\n",
       "      <td>1.11811</td>\n",
       "      <td>1.12445</td>\n",
       "      <td>1.11432</td>\n",
       "      <td>1.11811</td>\n",
       "      <td>2022-02-28</td>\n",
       "    </tr>\n",
       "    <tr>\n",
       "      <th>4732</th>\n",
       "      <td>1.12147</td>\n",
       "      <td>1.12322</td>\n",
       "      <td>1.11021</td>\n",
       "      <td>1.12159</td>\n",
       "      <td>2022-03-01</td>\n",
       "    </tr>\n",
       "    <tr>\n",
       "      <th>4733</th>\n",
       "      <td>1.11310</td>\n",
       "      <td>1.11419</td>\n",
       "      <td>1.10585</td>\n",
       "      <td>1.11328</td>\n",
       "      <td>2022-03-02</td>\n",
       "    </tr>\n",
       "    <tr>\n",
       "      <th>4734</th>\n",
       "      <td>1.11136</td>\n",
       "      <td>1.11161</td>\n",
       "      <td>1.10398</td>\n",
       "      <td>1.11123</td>\n",
       "      <td>2022-03-03</td>\n",
       "    </tr>\n",
       "    <tr>\n",
       "      <th>4735</th>\n",
       "      <td>1.10742</td>\n",
       "      <td>1.10754</td>\n",
       "      <td>1.08944</td>\n",
       "      <td>1.09158</td>\n",
       "      <td>2022-03-04</td>\n",
       "    </tr>\n",
       "  </tbody>\n",
       "</table>\n",
       "<p>4736 rows × 5 columns</p>\n",
       "</div>"
      ],
      "text/plain": [
       "         open     high      low    close       date\n",
       "0     1.20340  1.20401  1.19440  1.19650 2003-12-01\n",
       "1     1.19610  1.21090  1.19460  1.20890 2003-12-02\n",
       "2     1.20900  1.21300  1.20770  1.21230 2003-12-03\n",
       "3     1.21200  1.21440  1.20440  1.20809 2003-12-04\n",
       "4     1.20780  1.21910  1.20659  1.21869 2003-12-05\n",
       "...       ...      ...      ...      ...        ...\n",
       "4731  1.11811  1.12445  1.11432  1.11811 2022-02-28\n",
       "4732  1.12147  1.12322  1.11021  1.12159 2022-03-01\n",
       "4733  1.11310  1.11419  1.10585  1.11328 2022-03-02\n",
       "4734  1.11136  1.11161  1.10398  1.11123 2022-03-03\n",
       "4735  1.10742  1.10754  1.08944  1.09158 2022-03-04\n",
       "\n",
       "[4736 rows x 5 columns]"
      ]
     },
     "execution_count": 52,
     "metadata": {},
     "output_type": "execute_result"
    }
   ],
   "source": [
    "ticket = yf.Ticker('EURUSD=X')\n",
    "dataset = ticket.history(period='max', interval='1d', auto_adjust=True).drop(columns=['Volume', 'Dividends', 'Stock Splits']).rename(columns={'Open': 'open', 'High': 'high', 'Low': 'low', 'Close': 'close'}).round(5)\n",
    "dataset['date'] = dataset.index\n",
    "dataset.reset_index(drop=True, inplace=True)\n",
    "dataset"
   ]
  },
  {
   "cell_type": "markdown",
   "metadata": {},
   "source": [
    "<h4>Explore the data</h4>"
   ]
  },
  {
   "cell_type": "code",
   "execution_count": 53,
   "metadata": {},
   "outputs": [
    {
     "name": "stdout",
     "output_type": "stream",
     "text": [
      "              open         high          low        close\n",
      "count  4736.000000  4736.000000  4736.000000  4736.000000\n",
      "mean      1.254278     1.258960     1.249141     1.254301\n",
      "std       0.119083     0.119850     0.119635     0.119077\n",
      "min       1.039390     1.041990     0.072900     1.039050\n",
      "25%       1.148825     1.153055     1.143903     1.149040\n",
      "50%       1.243945     1.248675     1.238650     1.243950\n",
      "75%       1.338785     1.343290     1.333720     1.338952\n",
      "max       1.598180     1.602820     1.587400     1.598800 \n",
      "\n",
      "<class 'pandas.core.frame.DataFrame'>\n",
      "RangeIndex: 4736 entries, 0 to 4735\n",
      "Data columns (total 5 columns):\n",
      " #   Column  Non-Null Count  Dtype         \n",
      "---  ------  --------------  -----         \n",
      " 0   open    4736 non-null   float64       \n",
      " 1   high    4736 non-null   float64       \n",
      " 2   low     4736 non-null   float64       \n",
      " 3   close   4736 non-null   float64       \n",
      " 4   date    4736 non-null   datetime64[ns]\n",
      "dtypes: datetime64[ns](1), float64(4)\n",
      "memory usage: 185.1 KB\n",
      "None \n",
      "\n",
      "open            float64\n",
      "high            float64\n",
      "low             float64\n",
      "close           float64\n",
      "date     datetime64[ns]\n",
      "dtype: object \n",
      "\n"
     ]
    }
   ],
   "source": [
    "print(dataset.describe(), '\\n')\n",
    "print(dataset.info(), '\\n')\n",
    "print(dataset.dtypes, '\\n')"
   ]
  },
  {
   "cell_type": "markdown",
   "metadata": {},
   "source": [
    "<h4>Correlation Estimate</h4>"
   ]
  },
  {
   "cell_type": "code",
   "execution_count": 54,
   "metadata": {},
   "outputs": [
    {
     "data": {
      "text/html": [
       "<div>\n",
       "<style scoped>\n",
       "    .dataframe tbody tr th:only-of-type {\n",
       "        vertical-align: middle;\n",
       "    }\n",
       "\n",
       "    .dataframe tbody tr th {\n",
       "        vertical-align: top;\n",
       "    }\n",
       "\n",
       "    .dataframe thead th {\n",
       "        text-align: right;\n",
       "    }\n",
       "</style>\n",
       "<table border=\"1\" class=\"dataframe\">\n",
       "  <thead>\n",
       "    <tr style=\"text-align: right;\">\n",
       "      <th></th>\n",
       "      <th>open</th>\n",
       "      <th>high</th>\n",
       "      <th>low</th>\n",
       "      <th>close</th>\n",
       "    </tr>\n",
       "  </thead>\n",
       "  <tbody>\n",
       "    <tr>\n",
       "      <th>open</th>\n",
       "      <td>1.000000</td>\n",
       "      <td>0.999238</td>\n",
       "      <td>0.980407</td>\n",
       "      <td>0.999063</td>\n",
       "    </tr>\n",
       "    <tr>\n",
       "      <th>high</th>\n",
       "      <td>0.999238</td>\n",
       "      <td>1.000000</td>\n",
       "      <td>0.979909</td>\n",
       "      <td>0.999232</td>\n",
       "    </tr>\n",
       "    <tr>\n",
       "      <th>low</th>\n",
       "      <td>0.980407</td>\n",
       "      <td>0.979909</td>\n",
       "      <td>1.000000</td>\n",
       "      <td>0.980422</td>\n",
       "    </tr>\n",
       "    <tr>\n",
       "      <th>close</th>\n",
       "      <td>0.999063</td>\n",
       "      <td>0.999232</td>\n",
       "      <td>0.980422</td>\n",
       "      <td>1.000000</td>\n",
       "    </tr>\n",
       "  </tbody>\n",
       "</table>\n",
       "</div>"
      ],
      "text/plain": [
       "           open      high       low     close\n",
       "open   1.000000  0.999238  0.980407  0.999063\n",
       "high   0.999238  1.000000  0.979909  0.999232\n",
       "low    0.980407  0.979909  1.000000  0.980422\n",
       "close  0.999063  0.999232  0.980422  1.000000"
      ]
     },
     "execution_count": 54,
     "metadata": {},
     "output_type": "execute_result"
    }
   ],
   "source": [
    "dataset.corr()"
   ]
  },
  {
   "cell_type": "markdown",
   "metadata": {},
   "source": [
    "<h4>Visualize the Raw data</h4>"
   ]
  },
  {
   "cell_type": "code",
   "execution_count": 55,
   "metadata": {},
   "outputs": [
    {
     "data": {
      "image/png": "[encoded data removed]",
      "text/plain": [
       "<Figure size 1008x576 with 2 Axes>"
      ]
     },
     "metadata": {
      "needs_background": "light"
     },
     "output_type": "display_data"
    }
   ],
   "source": [
    "plt.figure(figsize=(14, 8))\n",
    "sns.heatmap(dataset.corr(), annot=True)\n",
    "plt.title('Heatmap')\n",
    "plt.show()"
   ]
  },
  {
   "cell_type": "markdown",
   "metadata": {},
   "source": [
    "<h4>Create filter</h4>"
   ]
  },
  {
   "cell_type": "code",
   "execution_count": 59,
   "metadata": {},
   "outputs": [
    {
     "name": "stdout",
     "output_type": "stream",
     "text": [
      "         open     high      low    close       date\n",
      "0     1.20340  1.20401  1.19440  1.19650 2003-12-01\n",
      "1     1.19610  1.21090  1.19460  1.20890 2003-12-02\n",
      "2     1.20900  1.21300  1.20770  1.21230 2003-12-03\n",
      "3     1.21200  1.21440  1.20440  1.20809 2003-12-04\n",
      "4     1.20780  1.21910  1.20659  1.21869 2003-12-05\n",
      "...       ...      ...      ...      ...        ...\n",
      "4730  1.11908  1.12661  1.11681  1.11907 2022-02-25\n",
      "4731  1.11811  1.12445  1.11432  1.11811 2022-02-28\n",
      "4732  1.12147  1.12322  1.11021  1.12159 2022-03-01\n",
      "4733  1.11310  1.11419  1.10585  1.11328 2022-03-02\n",
      "4734  1.11136  1.11161  1.10398  1.11123 2022-03-03\n",
      "\n",
      "[4735 rows x 5 columns]\n"
     ]
    },
    {
     "data": {
      "text/html": [
       "<div>\n",
       "<style scoped>\n",
       "    .dataframe tbody tr th:only-of-type {\n",
       "        vertical-align: middle;\n",
       "    }\n",
       "\n",
       "    .dataframe tbody tr th {\n",
       "        vertical-align: top;\n",
       "    }\n",
       "\n",
       "    .dataframe thead th {\n",
       "        text-align: right;\n",
       "    }\n",
       "</style>\n",
       "<table border=\"1\" class=\"dataframe\">\n",
       "  <thead>\n",
       "    <tr style=\"text-align: right;\">\n",
       "      <th></th>\n",
       "      <th>open</th>\n",
       "      <th>high</th>\n",
       "      <th>low</th>\n",
       "      <th>close</th>\n",
       "      <th>date</th>\n",
       "      <th>MA</th>\n",
       "    </tr>\n",
       "  </thead>\n",
       "  <tbody>\n",
       "    <tr>\n",
       "      <th>20</th>\n",
       "      <td>1.24339</td>\n",
       "      <td>1.25080</td>\n",
       "      <td>1.24299</td>\n",
       "      <td>1.24839</td>\n",
       "      <td>2003-12-29</td>\n",
       "      <td>1.228935</td>\n",
       "    </tr>\n",
       "    <tr>\n",
       "      <th>21</th>\n",
       "      <td>1.24860</td>\n",
       "      <td>1.25630</td>\n",
       "      <td>1.24830</td>\n",
       "      <td>1.25489</td>\n",
       "      <td>2003-12-30</td>\n",
       "      <td>1.231715</td>\n",
       "    </tr>\n",
       "    <tr>\n",
       "      <th>22</th>\n",
       "      <td>1.25500</td>\n",
       "      <td>1.26489</td>\n",
       "      <td>1.25301</td>\n",
       "      <td>1.25900</td>\n",
       "      <td>2003-12-31</td>\n",
       "      <td>1.234101</td>\n",
       "    </tr>\n",
       "    <tr>\n",
       "      <th>23</th>\n",
       "      <td>1.25900</td>\n",
       "      <td>1.26080</td>\n",
       "      <td>1.24740</td>\n",
       "      <td>1.25819</td>\n",
       "      <td>2004-01-01</td>\n",
       "      <td>1.236286</td>\n",
       "    </tr>\n",
       "    <tr>\n",
       "      <th>24</th>\n",
       "      <td>1.25819</td>\n",
       "      <td>1.26280</td>\n",
       "      <td>1.25269</td>\n",
       "      <td>1.25819</td>\n",
       "      <td>2004-01-02</td>\n",
       "      <td>1.238672</td>\n",
       "    </tr>\n",
       "    <tr>\n",
       "      <th>...</th>\n",
       "      <td>...</td>\n",
       "      <td>...</td>\n",
       "      <td>...</td>\n",
       "      <td>...</td>\n",
       "      <td>...</td>\n",
       "      <td>...</td>\n",
       "    </tr>\n",
       "    <tr>\n",
       "      <th>4720</th>\n",
       "      <td>1.14117</td>\n",
       "      <td>1.14190</td>\n",
       "      <td>1.13713</td>\n",
       "      <td>1.14155</td>\n",
       "      <td>2022-02-11</td>\n",
       "      <td>1.134161</td>\n",
       "    </tr>\n",
       "    <tr>\n",
       "      <th>4721</th>\n",
       "      <td>1.13658</td>\n",
       "      <td>1.13689</td>\n",
       "      <td>1.12928</td>\n",
       "      <td>1.13651</td>\n",
       "      <td>2022-02-14</td>\n",
       "      <td>1.133723</td>\n",
       "    </tr>\n",
       "    <tr>\n",
       "      <th>4723</th>\n",
       "      <td>1.13556</td>\n",
       "      <td>1.13932</td>\n",
       "      <td>1.13455</td>\n",
       "      <td>1.13568</td>\n",
       "      <td>2022-02-16</td>\n",
       "      <td>1.132970</td>\n",
       "    </tr>\n",
       "    <tr>\n",
       "      <th>4724</th>\n",
       "      <td>1.13733</td>\n",
       "      <td>1.13869</td>\n",
       "      <td>1.13276</td>\n",
       "      <td>1.13753</td>\n",
       "      <td>2022-02-17</td>\n",
       "      <td>1.133188</td>\n",
       "    </tr>\n",
       "    <tr>\n",
       "      <th>4725</th>\n",
       "      <td>1.13639</td>\n",
       "      <td>1.13767</td>\n",
       "      <td>1.13158</td>\n",
       "      <td>1.13665</td>\n",
       "      <td>2022-02-18</td>\n",
       "      <td>1.133298</td>\n",
       "    </tr>\n",
       "  </tbody>\n",
       "</table>\n",
       "<p>2363 rows × 6 columns</p>\n",
       "</div>"
      ],
      "text/plain": [
       "         open     high      low    close       date        MA\n",
       "20    1.24339  1.25080  1.24299  1.24839 2003-12-29  1.228935\n",
       "21    1.24860  1.25630  1.24830  1.25489 2003-12-30  1.231715\n",
       "22    1.25500  1.26489  1.25301  1.25900 2003-12-31  1.234101\n",
       "23    1.25900  1.26080  1.24740  1.25819 2004-01-01  1.236286\n",
       "24    1.25819  1.26280  1.25269  1.25819 2004-01-02  1.238672\n",
       "...       ...      ...      ...      ...        ...       ...\n",
       "4720  1.14117  1.14190  1.13713  1.14155 2022-02-11  1.134161\n",
       "4721  1.13658  1.13689  1.12928  1.13651 2022-02-14  1.133723\n",
       "4723  1.13556  1.13932  1.13455  1.13568 2022-02-16  1.132970\n",
       "4724  1.13733  1.13869  1.13276  1.13753 2022-02-17  1.133188\n",
       "4725  1.13639  1.13767  1.13158  1.13665 2022-02-18  1.133298\n",
       "\n",
       "[2363 rows x 6 columns]"
      ]
     },
     "execution_count": 59,
     "metadata": {},
     "output_type": "execute_result"
    }
   ],
   "source": [
    "print(dataset.iloc[:-1, :])\n",
    "dataset['MA'] = dataset['close'].rolling(window=21).mean()\n",
    "dataset.loc[dataset['open'] > dataset['MA']]"
   ]
  },
  {
   "cell_type": "markdown",
   "metadata": {},
   "source": [
    "<h4>Group By</h4>"
   ]
  },
  {
   "cell_type": "code",
   "execution_count": 61,
   "metadata": {},
   "outputs": [
    {
     "name": "stdout",
     "output_type": "stream",
     "text": [
      "            open     high      low        MA\n",
      "close                                       \n",
      "1.03905  1.03939  1.04515  1.03853  1.058660\n",
      "1.04058  1.04047  1.04199  1.03552  1.059843\n",
      "1.04170  1.04178  1.04910  1.04178  1.054062\n",
      "1.04188  1.04178  1.04723  1.04037  1.061517\n",
      "1.04199  1.04184  1.04789  1.03913  1.051147\n",
      "...          ...      ...      ...       ...\n",
      "1.59119  1.58040  1.59431  1.57988  1.575100\n",
      "1.59139  1.58341  1.59309  1.58321  1.574774\n",
      "1.59490  1.57871  1.59490  1.57679  1.563527\n",
      "1.59581  1.57841  1.59760  1.57801  1.571249\n",
      "1.59880  1.59114  1.60131  1.58431  1.576486\n",
      "\n",
      "[3866 rows x 4 columns]\n"
     ]
    }
   ],
   "source": [
    "print(dataset.groupby('close').mean())"
   ]
  },
  {
   "cell_type": "markdown",
   "metadata": {},
   "source": [
    "<h4>Outliers</h4>"
   ]
  },
  {
   "cell_type": "code",
   "execution_count": 70,
   "metadata": {},
   "outputs": [
    {
     "name": "stderr",
     "output_type": "stream",
     "text": [
      "No handles with labels found to put in legend.\n"
     ]
    },
    {
     "data": {
      "image/png": "[encoded data removed]",
      "text/plain": [
       "<Figure size 1080x576 with 1 Axes>"
      ]
     },
     "metadata": {
      "needs_background": "light"
     },
     "output_type": "display_data"
    }
   ],
   "source": [
    "x = dataset['close']\n",
    "y = dataset['open']\n",
    "plt.figure(figsize=(15, 8))\n",
    "plt.scatter(x, y, alpha=0.5)\n",
    "plt.xlabel(\"close\")\n",
    "plt.ylabel(\"open\")\n",
    "plt.legend()\n",
    "plt.title('Outliers close')\n",
    "plt.show()\n",
    "\n",
    "\n"
   ]
  }
 ],
 "metadata": {
  "interpreter": {
   "hash": "916dbcbb3f70747c44a77c7bcd40155683ae19c65e1c03b4aa3499c5328201f1"
  },
  "kernelspec": {
   "display_name": "Python 3.8.10 64-bit",
   "language": "python",
   "name": "python3"
  },
  "language_info": {
   "codemirror_mode": {
    "name": "ipython",
    "version": 3
   },
   "file_extension": ".py",
   "mimetype": "text/x-python",
   "name": "python",
   "nbconvert_exporter": "python",
   "pygments_lexer": "ipython3",
   "version": "3.8.10"
  },
  "orig_nbformat": 4
 },
 "nbformat": 4,
 "nbformat_minor": 2
}
