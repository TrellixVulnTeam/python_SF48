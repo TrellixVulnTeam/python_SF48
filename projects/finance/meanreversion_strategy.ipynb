{
 "cells": [
  {
   "cell_type": "markdown",
   "metadata": {},
   "source": [
    "<h4>Defining a Mean Reversion Strategy - Daily</h4>\n",
    "<h6>Is when the price crosses above or below a mean to signal a potential change in trend.</h6>"
   ]
  },
  {
   "cell_type": "code",
   "execution_count": 4,
   "metadata": {},
   "outputs": [],
   "source": [
    "import yfinance as yf\n",
    "import pandas as pd\n",
    "import numpy as np\n",
    "import matplotlib.pyplot as plt\n",
    "plt.style.use('seaborn')\n",
    "\n",
    "# Load data\n",
    "def load_data(ticker: str, time_frame: str) -> None:\n",
    "    ticket = yf.Ticker(f'{ticker}')\n",
    "    dataset = ticket.history(period='max', interval=time_frame, auto_adjust=True).drop(columns=['Volume', 'Dividends', 'Stock Splits']).rename(columns={'Open': 'open', 'High': 'high', 'Low': 'low', 'Close': 'close'}) # periods: “1d”, “5d”, “1mo”, “3mo”, “6mo”, “1y”, “2y”, “5y”, “10y”, “ytd”, “max”\n",
    "    dataset['date'] = dataset.index\n",
    "    return pd.DataFrame(dataset)\n",
    "\n",
    "ticker = 'EURUSD=X'\n",
    "time_frame = '1d'\n",
    "data = load_data(ticker, time_frame)"
   ]
  },
  {
   "cell_type": "markdown",
   "metadata": {},
   "source": [
    "<h4>Create variables</h4>\n",
    "<h6>Create variables for strategy Mean(Small and Long) and variable that exhibt what position take</h6>"
   ]
  },
  {
   "cell_type": "code",
   "execution_count": 5,
   "metadata": {},
   "outputs": [],
   "source": [
    "ma_small = 48\n",
    "ma_long = 140\n",
    "\n",
    "# Create variables SMA\n",
    "data['MA_Small'] = data['close'].rolling(ma_small).mean()\n",
    "data['MA_Long'] = data['close'].rolling(ma_long).mean()"
   ]
  }
 ],
 "metadata": {
  "interpreter": {
   "hash": "725d5c4629a663bfd585bebfe04fe3e25572940a8a80e042ea861df60ee30dd2"
  },
  "kernelspec": {
   "display_name": "Python 3.8.10 64-bit ('venv': venv)",
   "language": "python",
   "name": "python3"
  },
  "language_info": {
   "codemirror_mode": {
    "name": "ipython",
    "version": 3
   },
   "file_extension": ".py",
   "mimetype": "text/x-python",
   "name": "python",
   "nbconvert_exporter": "python",
   "pygments_lexer": "ipython3",
   "version": "3.8.10"
  },
  "orig_nbformat": 4
 },
 "nbformat": 4,
 "nbformat_minor": 2
}
